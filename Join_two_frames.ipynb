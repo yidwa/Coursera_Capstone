{
 "cells": [
  {
   "cell_type": "code",
   "execution_count": 1,
   "metadata": {},
   "outputs": [
    {
     "name": "stderr",
     "output_type": "stream",
     "text": [
      "/Users/yidwa/anaconda2/lib/python2.7/site-packages/cryptography/hazmat/primitives/constant_time.py:26: CryptographyDeprecationWarning: Support for your Python version is deprecated. The next version of cryptography will remove support. Please upgrade to a release (2.7.7+) that supports hmac.compare_digest as soon as possible.\n",
      "  utils.PersistentlyDeprecated2018,\n",
      "/Users/yidwa/anaconda2/lib/python2.7/site-packages/bs4/__init__.py:181: UserWarning: No parser was explicitly specified, so I'm using the best available HTML parser for this system (\"lxml\"). This usually isn't a problem, but if you run this code on another system, or in a different virtual environment, it may use a different parser and behave differently.\n",
      "\n",
      "The code that caused this warning is on line 162 of the file /Users/yidwa/anaconda2/lib/python2.7/runpy.py. To get rid of this warning, change code that looks like this:\n",
      "\n",
      " BeautifulSoup(YOUR_MARKUP})\n",
      "\n",
      "to this:\n",
      "\n",
      " BeautifulSoup(YOUR_MARKUP, \"lxml\")\n",
      "\n",
      "  markup_type=markup_type))\n"
     ]
    }
   ],
   "source": [
    "from bs4 import BeautifulSoup\n",
    "import requests\n",
    "import pandas as pd\n",
    "\n",
    "# get the table info\n",
    "r  = requests.get(\"https://en.wikipedia.org/wiki/List_of_postal_codes_of_Canada:_M\", \"lxml\")\n",
    "\n",
    "data = r.text\n",
    "\n",
    "soup = BeautifulSoup(data)\n",
    "\n",
    "table = soup.find_all('table')[0] \n",
    "\n",
    "# convert list to dataframe\n",
    "dfs = pd.read_html(str(table))\n",
    "\n",
    "df = pd.DataFrame(dfs[0])\n"
   ]
  },
  {
   "cell_type": "code",
   "execution_count": 2,
   "metadata": {},
   "outputs": [
    {
     "data": {
      "text/html": [
       "<div>\n",
       "<style scoped>\n",
       "    .dataframe tbody tr th:only-of-type {\n",
       "        vertical-align: middle;\n",
       "    }\n",
       "\n",
       "    .dataframe tbody tr th {\n",
       "        vertical-align: top;\n",
       "    }\n",
       "\n",
       "    .dataframe thead th {\n",
       "        text-align: right;\n",
       "    }\n",
       "</style>\n",
       "<table border=\"1\" class=\"dataframe\">\n",
       "  <thead>\n",
       "    <tr style=\"text-align: right;\">\n",
       "      <th></th>\n",
       "      <th>Postcode</th>\n",
       "      <th>Borough</th>\n",
       "      <th>Neighbourhood</th>\n",
       "    </tr>\n",
       "  </thead>\n",
       "  <tbody>\n",
       "    <tr>\n",
       "      <th>1</th>\n",
       "      <td>M1A</td>\n",
       "      <td>Not assigned</td>\n",
       "      <td>Not assigned</td>\n",
       "    </tr>\n",
       "    <tr>\n",
       "      <th>2</th>\n",
       "      <td>M2A</td>\n",
       "      <td>Not assigned</td>\n",
       "      <td>Not assigned</td>\n",
       "    </tr>\n",
       "    <tr>\n",
       "      <th>3</th>\n",
       "      <td>M3A</td>\n",
       "      <td>North York</td>\n",
       "      <td>Parkwoods</td>\n",
       "    </tr>\n",
       "    <tr>\n",
       "      <th>4</th>\n",
       "      <td>M4A</td>\n",
       "      <td>North York</td>\n",
       "      <td>Victoria Village</td>\n",
       "    </tr>\n",
       "    <tr>\n",
       "      <th>5</th>\n",
       "      <td>M5A</td>\n",
       "      <td>Downtown Toronto</td>\n",
       "      <td>Harbourfront</td>\n",
       "    </tr>\n",
       "  </tbody>\n",
       "</table>\n",
       "</div>"
      ],
      "text/plain": [
       "0 Postcode           Borough     Neighbourhood\n",
       "1      M1A      Not assigned      Not assigned\n",
       "2      M2A      Not assigned      Not assigned\n",
       "3      M3A        North York         Parkwoods\n",
       "4      M4A        North York  Victoria Village\n",
       "5      M5A  Downtown Toronto      Harbourfront"
      ]
     },
     "execution_count": 2,
     "metadata": {},
     "output_type": "execute_result"
    }
   ],
   "source": [
    "# set the first row as columns\n",
    "new_header = df.iloc[0]\n",
    "df=df[1:]\n",
    "df.columns = new_header\n",
    "df.head()"
   ]
  },
  {
   "cell_type": "code",
   "execution_count": 3,
   "metadata": {},
   "outputs": [],
   "source": [
    "#drop the invalid rows\n",
    "indexRows = df[df['Borough'] == 'Not assigned'].index\n",
    "df.drop(indexRows, inplace=True)"
   ]
  },
  {
   "cell_type": "code",
   "execution_count": 4,
   "metadata": {},
   "outputs": [
    {
     "data": {
      "text/html": [
       "<div>\n",
       "<style scoped>\n",
       "    .dataframe tbody tr th:only-of-type {\n",
       "        vertical-align: middle;\n",
       "    }\n",
       "\n",
       "    .dataframe tbody tr th {\n",
       "        vertical-align: top;\n",
       "    }\n",
       "\n",
       "    .dataframe thead th {\n",
       "        text-align: right;\n",
       "    }\n",
       "</style>\n",
       "<table border=\"1\" class=\"dataframe\">\n",
       "  <thead>\n",
       "    <tr style=\"text-align: right;\">\n",
       "      <th></th>\n",
       "      <th>Postcode</th>\n",
       "      <th>Borough</th>\n",
       "      <th>Neighbourhood</th>\n",
       "    </tr>\n",
       "  </thead>\n",
       "  <tbody>\n",
       "    <tr>\n",
       "      <th>0</th>\n",
       "      <td>M1B</td>\n",
       "      <td>Scarborough</td>\n",
       "      <td>Rouge,Malvern</td>\n",
       "    </tr>\n",
       "    <tr>\n",
       "      <th>1</th>\n",
       "      <td>M1C</td>\n",
       "      <td>Scarborough</td>\n",
       "      <td>Highland Creek,Rouge Hill,Port Union</td>\n",
       "    </tr>\n",
       "    <tr>\n",
       "      <th>2</th>\n",
       "      <td>M1E</td>\n",
       "      <td>Scarborough</td>\n",
       "      <td>Guildwood,Morningside,West Hill</td>\n",
       "    </tr>\n",
       "    <tr>\n",
       "      <th>3</th>\n",
       "      <td>M1G</td>\n",
       "      <td>Scarborough</td>\n",
       "      <td>Woburn</td>\n",
       "    </tr>\n",
       "    <tr>\n",
       "      <th>4</th>\n",
       "      <td>M1H</td>\n",
       "      <td>Scarborough</td>\n",
       "      <td>Cedarbrae</td>\n",
       "    </tr>\n",
       "  </tbody>\n",
       "</table>\n",
       "</div>"
      ],
      "text/plain": [
       "  Postcode      Borough                         Neighbourhood\n",
       "0      M1B  Scarborough                         Rouge,Malvern\n",
       "1      M1C  Scarborough  Highland Creek,Rouge Hill,Port Union\n",
       "2      M1E  Scarborough       Guildwood,Morningside,West Hill\n",
       "3      M1G  Scarborough                                Woburn\n",
       "4      M1H  Scarborough                             Cedarbrae"
      ]
     },
     "execution_count": 4,
     "metadata": {},
     "output_type": "execute_result"
    }
   ],
   "source": [
    "# group the rows with same postcode, and list all neighbourhood\n",
    "grouped_df = df.groupby(['Postcode','Borough'])\n",
    "grouped_lists = grouped_df['Neighbourhood'].agg(lambda x: \",\".join(x))\n",
    "grouped_lists = grouped_lists.reset_index()\n",
    "grouped_lists.head()"
   ]
  },
  {
   "cell_type": "code",
   "execution_count": 5,
   "metadata": {},
   "outputs": [],
   "source": [
    "grouped_lists['Neighbourhood'].replace({\"Not assigned\": grouped_lists['Borough']}, inplace=True)"
   ]
  },
  {
   "cell_type": "code",
   "execution_count": 7,
   "metadata": {},
   "outputs": [
    {
     "data": {
      "text/plain": [
       "(103, 3)"
      ]
     },
     "execution_count": 7,
     "metadata": {},
     "output_type": "execute_result"
    }
   ],
   "source": [
    "# get the number of rows\n",
    "grouped_lists.shape"
   ]
  },
  {
   "cell_type": "code",
   "execution_count": 8,
   "metadata": {},
   "outputs": [
    {
     "data": {
      "text/html": [
       "<div>\n",
       "<style scoped>\n",
       "    .dataframe tbody tr th:only-of-type {\n",
       "        vertical-align: middle;\n",
       "    }\n",
       "\n",
       "    .dataframe tbody tr th {\n",
       "        vertical-align: top;\n",
       "    }\n",
       "\n",
       "    .dataframe thead th {\n",
       "        text-align: right;\n",
       "    }\n",
       "</style>\n",
       "<table border=\"1\" class=\"dataframe\">\n",
       "  <thead>\n",
       "    <tr style=\"text-align: right;\">\n",
       "      <th></th>\n",
       "      <th>Postcode</th>\n",
       "      <th>Borough</th>\n",
       "      <th>Neighbourhood</th>\n",
       "    </tr>\n",
       "  </thead>\n",
       "  <tbody>\n",
       "    <tr>\n",
       "      <th>0</th>\n",
       "      <td>M1B</td>\n",
       "      <td>Scarborough</td>\n",
       "      <td>Rouge,Malvern</td>\n",
       "    </tr>\n",
       "    <tr>\n",
       "      <th>1</th>\n",
       "      <td>M1C</td>\n",
       "      <td>Scarborough</td>\n",
       "      <td>Highland Creek,Rouge Hill,Port Union</td>\n",
       "    </tr>\n",
       "    <tr>\n",
       "      <th>2</th>\n",
       "      <td>M1E</td>\n",
       "      <td>Scarborough</td>\n",
       "      <td>Guildwood,Morningside,West Hill</td>\n",
       "    </tr>\n",
       "    <tr>\n",
       "      <th>3</th>\n",
       "      <td>M1G</td>\n",
       "      <td>Scarborough</td>\n",
       "      <td>Woburn</td>\n",
       "    </tr>\n",
       "    <tr>\n",
       "      <th>4</th>\n",
       "      <td>M1H</td>\n",
       "      <td>Scarborough</td>\n",
       "      <td>Cedarbrae</td>\n",
       "    </tr>\n",
       "  </tbody>\n",
       "</table>\n",
       "</div>"
      ],
      "text/plain": [
       "  Postcode      Borough                         Neighbourhood\n",
       "0      M1B  Scarborough                         Rouge,Malvern\n",
       "1      M1C  Scarborough  Highland Creek,Rouge Hill,Port Union\n",
       "2      M1E  Scarborough       Guildwood,Morningside,West Hill\n",
       "3      M1G  Scarborough                                Woburn\n",
       "4      M1H  Scarborough                             Cedarbrae"
      ]
     },
     "execution_count": 8,
     "metadata": {},
     "output_type": "execute_result"
    }
   ],
   "source": [
    "grouped_lists.head()"
   ]
  },
  {
   "cell_type": "code",
   "execution_count": 28,
   "metadata": {},
   "outputs": [
    {
     "name": "stdout",
     "output_type": "stream",
     "text": [
      "--2020-03-08 11:46:26--  https://cocl.us/Geospatial_data\n",
      "Resolving cocl.us (cocl.us)... 158.85.108.86, 169.48.113.194, 158.85.108.83\n",
      "Connecting to cocl.us (cocl.us)|158.85.108.86|:443... connected.\n",
      "HTTP request sent, awaiting response... 301 Moved Permanently\n",
      "Location: https://ibm.box.com/shared/static/9afzr83pps4pwf2smjjcf1y5mvgb18rr.csv [following]\n",
      "--2020-03-08 11:46:28--  https://ibm.box.com/shared/static/9afzr83pps4pwf2smjjcf1y5mvgb18rr.csv\n",
      "Resolving ibm.box.com (ibm.box.com)... 103.116.4.197\n",
      "Connecting to ibm.box.com (ibm.box.com)|103.116.4.197|:443... connected.\n",
      "HTTP request sent, awaiting response... 301 Moved Permanently\n",
      "Location: /public/static/9afzr83pps4pwf2smjjcf1y5mvgb18rr.csv [following]\n",
      "--2020-03-08 11:46:29--  https://ibm.box.com/public/static/9afzr83pps4pwf2smjjcf1y5mvgb18rr.csv\n",
      "Reusing existing connection to ibm.box.com:443.\n",
      "HTTP request sent, awaiting response... 301 Moved Permanently\n",
      "Location: https://ibm.ent.box.com/public/static/9afzr83pps4pwf2smjjcf1y5mvgb18rr.csv [following]\n",
      "--2020-03-08 11:46:29--  https://ibm.ent.box.com/public/static/9afzr83pps4pwf2smjjcf1y5mvgb18rr.csv\n",
      "Resolving ibm.ent.box.com (ibm.ent.box.com)... 103.116.4.211\n",
      "Connecting to ibm.ent.box.com (ibm.ent.box.com)|103.116.4.211|:443... connected.\n",
      "HTTP request sent, awaiting response... 302 Found\n",
      "Location: https://public.boxcloud.com/d/1/b1!DOqtQqc9cCqhXE5AZi25SUEe42Clvbvo_PapOsp4jcTdHkDGVzzn0PwO02mz5OzTz771H1h_Z8BUc9U2ZT_0lY_xW6SHCLTRHdZhIx6HlyTOSahBTN3fDHwVw2YB0mlfCzEnNCJmdJr10j3AMYrt7xgUblOO-hxs2m0qfjKDcGSpZ5Bpalfg3svUmu9IUXzcJu80CgjAKnq2TjUp_UQxzGlcqwz_KjMugRep8FGPNVYbeIElj5Obcd3ZGrUk6Ppv2OpHtGKPNBXwIESpPnAS2RyLtHJzRcKETmgT5v3V_zp07uQPha_hjgi_o-eMuJ4RJb_yVekEq7ImX5lwBCX84Z-pM1nmzMrQRk5L0uDCNWkl1vlrtxmHu3wmpi542R-xmJ0IfRbmi2G9ijlAh2Z9EjSz15el8fP_AwKRE_ncfu0TLKs_qlRwyvySA7MIFchYs81_VqQKOwrV-7gyfoPwxLKOOqc8LGakI3c4NgTn_jkPrNN_6P3VMyJuqNjO-pRCZwnRBWwrj5GyLgERscq6UeJj__ovCanlX6Nwo1CgRmLRpOMISLSm5fBKxZN-xv0RP28UprhSxMqKWGM2iZmlWw6FOMB62Ifg8XicUB6CJbyVwkuXE6UzlJMtum_k7kba9lRclzY7mhOJ3yPPEFACegloplbp-axkynsi4i5_csLM3ocTSQcjGbOoTdWpRpHPEanO4wq5Or17t_b1iS3Kgh8-2xJivaTSqPZBqstO_d_auM307gWk0O_UDX38PCDapeEUZRGUXHMpcaaeyDZ2GoYYKzzWetKg47XWeOLBeiERoqTglu73_0mcIEu2DQh3nCM8I0NLSQ9SANXjLhW8beRpOuHGw1NOJupwOwcDEz_PEkGj0bc5U2rqbmjXrDbeSNRniRee1RwY55p8Fi73riBSIXDAX4cRSnW0B2IZ3jtXek2ryr3G4iH_k7kDz3Ydt68s-FEjOZJLIz3d5yfzHZLWEwWCDcVgGoWSyLtKoUS41zI-na3-RLBFWOrcCn51x5jNFDri63uAnchmj7_swRbm8TJv2dwQ0F3Gtf2PwJrWjdoeSVjXQrNx0b5R83mLmt6eXpq4naH71Q2qOr6y-m9mXVa3pMQ-hFrpk_bEEiqMpysnApFLJvxU-m2YrRANNUNTauJsarl7fiaZ0LonC5EJtUw22XlmpCnehwyPb0I0V0r0H06sbWCGcKkPd5TLl_-gC9APAGSmpotmtjKRVUrpWbeJlWJv-JHoFYsjI0nYycUb4QmkEU_IMQhLwhZeZwAGlsJYE6OpKxZrFfx8_DntsJKgnFBcQKFkuWNoNC_n6K_5G3AAUQ-6lnuLXNUMewERPGW3npHxqq4_lWrZMRi9886ZnAdxO05KU7cbea3QJOdHl8uSntbJ6lU./download [following]\n",
      "--2020-03-08 11:46:31--  https://public.boxcloud.com/d/1/b1!DOqtQqc9cCqhXE5AZi25SUEe42Clvbvo_PapOsp4jcTdHkDGVzzn0PwO02mz5OzTz771H1h_Z8BUc9U2ZT_0lY_xW6SHCLTRHdZhIx6HlyTOSahBTN3fDHwVw2YB0mlfCzEnNCJmdJr10j3AMYrt7xgUblOO-hxs2m0qfjKDcGSpZ5Bpalfg3svUmu9IUXzcJu80CgjAKnq2TjUp_UQxzGlcqwz_KjMugRep8FGPNVYbeIElj5Obcd3ZGrUk6Ppv2OpHtGKPNBXwIESpPnAS2RyLtHJzRcKETmgT5v3V_zp07uQPha_hjgi_o-eMuJ4RJb_yVekEq7ImX5lwBCX84Z-pM1nmzMrQRk5L0uDCNWkl1vlrtxmHu3wmpi542R-xmJ0IfRbmi2G9ijlAh2Z9EjSz15el8fP_AwKRE_ncfu0TLKs_qlRwyvySA7MIFchYs81_VqQKOwrV-7gyfoPwxLKOOqc8LGakI3c4NgTn_jkPrNN_6P3VMyJuqNjO-pRCZwnRBWwrj5GyLgERscq6UeJj__ovCanlX6Nwo1CgRmLRpOMISLSm5fBKxZN-xv0RP28UprhSxMqKWGM2iZmlWw6FOMB62Ifg8XicUB6CJbyVwkuXE6UzlJMtum_k7kba9lRclzY7mhOJ3yPPEFACegloplbp-axkynsi4i5_csLM3ocTSQcjGbOoTdWpRpHPEanO4wq5Or17t_b1iS3Kgh8-2xJivaTSqPZBqstO_d_auM307gWk0O_UDX38PCDapeEUZRGUXHMpcaaeyDZ2GoYYKzzWetKg47XWeOLBeiERoqTglu73_0mcIEu2DQh3nCM8I0NLSQ9SANXjLhW8beRpOuHGw1NOJupwOwcDEz_PEkGj0bc5U2rqbmjXrDbeSNRniRee1RwY55p8Fi73riBSIXDAX4cRSnW0B2IZ3jtXek2ryr3G4iH_k7kDz3Ydt68s-FEjOZJLIz3d5yfzHZLWEwWCDcVgGoWSyLtKoUS41zI-na3-RLBFWOrcCn51x5jNFDri63uAnchmj7_swRbm8TJv2dwQ0F3Gtf2PwJrWjdoeSVjXQrNx0b5R83mLmt6eXpq4naH71Q2qOr6y-m9mXVa3pMQ-hFrpk_bEEiqMpysnApFLJvxU-m2YrRANNUNTauJsarl7fiaZ0LonC5EJtUw22XlmpCnehwyPb0I0V0r0H06sbWCGcKkPd5TLl_-gC9APAGSmpotmtjKRVUrpWbeJlWJv-JHoFYsjI0nYycUb4QmkEU_IMQhLwhZeZwAGlsJYE6OpKxZrFfx8_DntsJKgnFBcQKFkuWNoNC_n6K_5G3AAUQ-6lnuLXNUMewERPGW3npHxqq4_lWrZMRi9886ZnAdxO05KU7cbea3QJOdHl8uSntbJ6lU./download\n",
      "Resolving public.boxcloud.com (public.boxcloud.com)... 103.116.4.200\n",
      "Connecting to public.boxcloud.com (public.boxcloud.com)|103.116.4.200|:443... connected.\n",
      "HTTP request sent, awaiting response... 200 OK\n",
      "Length: 2891 (2.8K) [text/csv]\n",
      "Saving to: ‘coor.csv’\n",
      "\n",
      "coor.csv            100%[===================>]   2.82K  --.-KB/s    in 0s      \n",
      "\n",
      "2020-03-08 11:46:32 (76.6 MB/s) - ‘coor.csv’ saved [2891/2891]\n",
      "\n"
     ]
    }
   ],
   "source": [
    "!wget -O coor.csv https://cocl.us/Geospatial_data"
   ]
  },
  {
   "cell_type": "code",
   "execution_count": 29,
   "metadata": {},
   "outputs": [
    {
     "data": {
      "text/html": [
       "<div>\n",
       "<style scoped>\n",
       "    .dataframe tbody tr th:only-of-type {\n",
       "        vertical-align: middle;\n",
       "    }\n",
       "\n",
       "    .dataframe tbody tr th {\n",
       "        vertical-align: top;\n",
       "    }\n",
       "\n",
       "    .dataframe thead th {\n",
       "        text-align: right;\n",
       "    }\n",
       "</style>\n",
       "<table border=\"1\" class=\"dataframe\">\n",
       "  <thead>\n",
       "    <tr style=\"text-align: right;\">\n",
       "      <th></th>\n",
       "      <th>Postal Code</th>\n",
       "      <th>Latitude</th>\n",
       "      <th>Longitude</th>\n",
       "    </tr>\n",
       "  </thead>\n",
       "  <tbody>\n",
       "    <tr>\n",
       "      <th>0</th>\n",
       "      <td>M1B</td>\n",
       "      <td>43.806686</td>\n",
       "      <td>-79.194353</td>\n",
       "    </tr>\n",
       "    <tr>\n",
       "      <th>1</th>\n",
       "      <td>M1C</td>\n",
       "      <td>43.784535</td>\n",
       "      <td>-79.160497</td>\n",
       "    </tr>\n",
       "    <tr>\n",
       "      <th>2</th>\n",
       "      <td>M1E</td>\n",
       "      <td>43.763573</td>\n",
       "      <td>-79.188711</td>\n",
       "    </tr>\n",
       "    <tr>\n",
       "      <th>3</th>\n",
       "      <td>M1G</td>\n",
       "      <td>43.770992</td>\n",
       "      <td>-79.216917</td>\n",
       "    </tr>\n",
       "    <tr>\n",
       "      <th>4</th>\n",
       "      <td>M1H</td>\n",
       "      <td>43.773136</td>\n",
       "      <td>-79.239476</td>\n",
       "    </tr>\n",
       "  </tbody>\n",
       "</table>\n",
       "</div>"
      ],
      "text/plain": [
       "  Postal Code   Latitude  Longitude\n",
       "0         M1B  43.806686 -79.194353\n",
       "1         M1C  43.784535 -79.160497\n",
       "2         M1E  43.763573 -79.188711\n",
       "3         M1G  43.770992 -79.216917\n",
       "4         M1H  43.773136 -79.239476"
      ]
     },
     "execution_count": 29,
     "metadata": {},
     "output_type": "execute_result"
    }
   ],
   "source": [
    "pdf = pd.read_csv('coor.csv')\n",
    "pdf.head()"
   ]
  },
  {
   "cell_type": "code",
   "execution_count": 38,
   "metadata": {
    "scrolled": true
   },
   "outputs": [
    {
     "data": {
      "text/html": [
       "<div>\n",
       "<style scoped>\n",
       "    .dataframe tbody tr th:only-of-type {\n",
       "        vertical-align: middle;\n",
       "    }\n",
       "\n",
       "    .dataframe tbody tr th {\n",
       "        vertical-align: top;\n",
       "    }\n",
       "\n",
       "    .dataframe thead th {\n",
       "        text-align: right;\n",
       "    }\n",
       "</style>\n",
       "<table border=\"1\" class=\"dataframe\">\n",
       "  <thead>\n",
       "    <tr style=\"text-align: right;\">\n",
       "      <th></th>\n",
       "      <th>Borough</th>\n",
       "      <th>Neighbourhood</th>\n",
       "      <th>Latitude</th>\n",
       "      <th>Longitude</th>\n",
       "    </tr>\n",
       "    <tr>\n",
       "      <th>Postcode</th>\n",
       "      <th></th>\n",
       "      <th></th>\n",
       "      <th></th>\n",
       "      <th></th>\n",
       "    </tr>\n",
       "  </thead>\n",
       "  <tbody>\n",
       "    <tr>\n",
       "      <th>M1B</th>\n",
       "      <td>Scarborough</td>\n",
       "      <td>Rouge,Malvern</td>\n",
       "      <td>43.806686</td>\n",
       "      <td>-79.194353</td>\n",
       "    </tr>\n",
       "    <tr>\n",
       "      <th>M1C</th>\n",
       "      <td>Scarborough</td>\n",
       "      <td>Highland Creek,Rouge Hill,Port Union</td>\n",
       "      <td>43.784535</td>\n",
       "      <td>-79.160497</td>\n",
       "    </tr>\n",
       "    <tr>\n",
       "      <th>M1E</th>\n",
       "      <td>Scarborough</td>\n",
       "      <td>Guildwood,Morningside,West Hill</td>\n",
       "      <td>43.763573</td>\n",
       "      <td>-79.188711</td>\n",
       "    </tr>\n",
       "    <tr>\n",
       "      <th>M1G</th>\n",
       "      <td>Scarborough</td>\n",
       "      <td>Woburn</td>\n",
       "      <td>43.770992</td>\n",
       "      <td>-79.216917</td>\n",
       "    </tr>\n",
       "    <tr>\n",
       "      <th>M1H</th>\n",
       "      <td>Scarborough</td>\n",
       "      <td>Cedarbrae</td>\n",
       "      <td>43.773136</td>\n",
       "      <td>-79.239476</td>\n",
       "    </tr>\n",
       "  </tbody>\n",
       "</table>\n",
       "</div>"
      ],
      "text/plain": [
       "              Borough                         Neighbourhood   Latitude  \\\n",
       "Postcode                                                                 \n",
       "M1B       Scarborough                         Rouge,Malvern  43.806686   \n",
       "M1C       Scarborough  Highland Creek,Rouge Hill,Port Union  43.784535   \n",
       "M1E       Scarborough       Guildwood,Morningside,West Hill  43.763573   \n",
       "M1G       Scarborough                                Woburn  43.770992   \n",
       "M1H       Scarborough                             Cedarbrae  43.773136   \n",
       "\n",
       "          Longitude  \n",
       "Postcode             \n",
       "M1B      -79.194353  \n",
       "M1C      -79.160497  \n",
       "M1E      -79.188711  \n",
       "M1G      -79.216917  \n",
       "M1H      -79.239476  "
      ]
     },
     "execution_count": 38,
     "metadata": {},
     "output_type": "execute_result"
    }
   ],
   "source": [
    "result = grouped_lists.set_index('Postcode').join(pdf.set_index('Postal Code'))\n",
    "result.head()"
   ]
  },
  {
   "cell_type": "code",
   "execution_count": null,
   "metadata": {},
   "outputs": [],
   "source": []
  }
 ],
 "metadata": {
  "kernelspec": {
   "display_name": "Python 2",
   "language": "python",
   "name": "python2"
  },
  "language_info": {
   "codemirror_mode": {
    "name": "ipython",
    "version": 2
   },
   "file_extension": ".py",
   "mimetype": "text/x-python",
   "name": "python",
   "nbconvert_exporter": "python",
   "pygments_lexer": "ipython2",
   "version": "2.7.3"
  }
 },
 "nbformat": 4,
 "nbformat_minor": 2
}
